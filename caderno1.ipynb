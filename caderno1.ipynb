{
 "cells": [
  {
   "cell_type": "markdown",
   "metadata": {},
   "source": [
    "Executar a primeira célula abaixo antes de qualquer coisa!"
   ]
  },
  {
   "cell_type": "code",
   "execution_count": 1,
   "metadata": {},
   "outputs": [
    {
     "name": "stdout",
     "output_type": "stream",
     "text": [
      "Requirement already satisfied: truth-table-generator in /home/messi/.local/lib/python3.7/site-packages (1.0.1)\n",
      "Requirement already satisfied: tabulate in /home/messi/.local/lib/python3.7/site-packages (from truth-table-generator) (0.8.6)\n",
      "Requirement already satisfied: numpy in /home/messi/.local/lib/python3.7/site-packages (from truth-table-generator) (1.17.4)\n",
      "Requirement already satisfied: pandas in /home/messi/.local/lib/python3.7/site-packages (from truth-table-generator) (0.25.3)\n",
      "Requirement already satisfied: jinja2 in /home/messi/.local/lib/python3.7/site-packages (from truth-table-generator) (2.10.3)\n",
      "Requirement already satisfied: PTable in /home/messi/.local/lib/python3.7/site-packages (from truth-table-generator) (0.9.2)\n",
      "Requirement already satisfied: pyparsing in /home/messi/.local/lib/python3.7/site-packages (from truth-table-generator) (2.4.5)\n",
      "Requirement already satisfied: python-dateutil>=2.6.1 in /usr/lib/python3/dist-packages (from pandas->truth-table-generator) (2.7.3)\n",
      "Requirement already satisfied: pytz>=2017.2 in /usr/lib/python3/dist-packages (from pandas->truth-table-generator) (2019.2)\n",
      "Requirement already satisfied: MarkupSafe>=0.23 in /usr/lib/python3/dist-packages (from jinja2->truth-table-generator) (1.1.0)\n"
     ]
    }
   ],
   "source": [
    "import sys\n",
    "!{sys.executable} -m pip install truth-table-generator"
   ]
  },
  {
   "cell_type": "code",
   "execution_count": 1,
   "metadata": {},
   "outputs": [],
   "source": [
    "import ttg "
   ]
  },
  {
   "cell_type": "code",
   "execution_count": 35,
   "metadata": {},
   "outputs": [
    {
     "name": "stdout",
     "output_type": "stream",
     "text": [
      "+-------+-------+--------------+\n",
      "|   p   |  ~p   |  p and (~p)  |\n",
      "|-------+-------+--------------|\n",
      "| True  | False |    False     |\n",
      "| False | True  |    False     |\n",
      "+-------+-------+--------------+\n"
     ]
    },
    {
     "data": {
      "text/plain": [
       "'\\ntbl.as_pandas()\\n'"
      ]
     },
     "execution_count": 35,
     "metadata": {},
     "output_type": "execute_result"
    }
   ],
   "source": [
    "tbl = ttg.Truths(['p'], ['~p', 'p and (~p)'],ints=False)\n",
    "print(tbl)\n",
    "'''\n",
    "tbl.as_pandas()\n",
    "'''"
   ]
  },
  {
   "cell_type": "code",
   "execution_count": 36,
   "metadata": {},
   "outputs": [
    {
     "name": "stdout",
     "output_type": "stream",
     "text": [
      "+-------+-------+-------------+\n",
      "|   p   |  ~p   |  p or (~p)  |\n",
      "|-------+-------+-------------|\n",
      "| True  | False |    True     |\n",
      "| False | True  |    True     |\n",
      "+-------+-------+-------------+\n"
     ]
    }
   ],
   "source": [
    "tbl = ttg.Truths(['p'], ['~p', 'p or (~p)'],ints=False)\n",
    "print(tbl)"
   ]
  },
  {
   "cell_type": "code",
   "execution_count": 30,
   "metadata": {},
   "outputs": [
    {
     "name": "stdout",
     "output_type": "stream",
     "text": [
      "+-------+-------+-------+-----------+--------------------+\n",
      "|   p   |   q   |  ~q   |  p or ~q  |  (p or (~q)) => q  |\n",
      "|-------+-------+-------+-----------+--------------------|\n",
      "| True  | True  | False |   True    |        True        |\n",
      "| True  | False | True  |   True    |       False        |\n",
      "| False | True  | False |   False   |        True        |\n",
      "| False | False | True  |   True    |       False        |\n",
      "+-------+-------+-------+-----------+--------------------+\n"
     ]
    }
   ],
   "source": [
    "tbl = ttg.Truths(['p', 'q'], ['~q' ,'p or ~q', '(p or (~q)) => q'], ints=False)\n",
    "print(tbl)"
   ]
  },
  {
   "cell_type": "code",
   "execution_count": 28,
   "metadata": {},
   "outputs": [
    {
     "name": "stdout",
     "output_type": "stream",
     "text": [
      "+-------+-------+----------+-----------+-------------------------+\n",
      "|   p   |   q   |  p or q  |  p and q  |  (p or q) => (p and q)  |\n",
      "|-------+-------+----------+-----------+-------------------------|\n",
      "| True  | True  |   True   |   True    |          True           |\n",
      "| True  | False |   True   |   False   |          False          |\n",
      "| False | True  |   True   |   False   |          False          |\n",
      "| False | False |  False   |   False   |          True           |\n",
      "+-------+-------+----------+-----------+-------------------------+\n"
     ]
    }
   ],
   "source": [
    "tbl = ttg.Truths(['p', 'q'], ['p or q', 'p and q', '(p or q) => (p and q)'], ints=False)\n",
    "print(tbl)"
   ]
  },
  {
   "cell_type": "code",
   "execution_count": 32,
   "metadata": {},
   "outputs": [
    {
     "name": "stdout",
     "output_type": "stream",
     "text": [
      "+-------+-------+-------+-------+----------+------------+-----------------------------+\n",
      "|   p   |   q   |  ~p   |  ~q   |  p => q  |  ~q => ~p  |  (p => q) = ((~q) => (~p))  |\n",
      "|-------+-------+-------+-------+----------+------------+-----------------------------|\n",
      "| True  | True  | False | False |   True   |    True    |            True             |\n",
      "| True  | False | False | True  |  False   |   False    |            True             |\n",
      "| False | True  | True  | False |   True   |    True    |            True             |\n",
      "| False | False | True  | True  |   True   |    True    |            True             |\n",
      "+-------+-------+-------+-------+----------+------------+-----------------------------+\n"
     ]
    },
    {
     "data": {
      "text/plain": [
       "'Tautology'"
      ]
     },
     "execution_count": 32,
     "metadata": {},
     "output_type": "execute_result"
    }
   ],
   "source": [
    "tbl = ttg.Truths(['p', 'q'], ['~p', '~q', 'p => q', '~q => ~p', '(p => q) = ((~q) => (~p))'], ints=False)\n",
    "print(tbl)\n",
    "tbl.valuation(-1)"
   ]
  },
  {
   "cell_type": "code",
   "execution_count": 31,
   "metadata": {},
   "outputs": [
    {
     "name": "stdout",
     "output_type": "stream",
     "text": [
      "+-------+-------+----------+----------+------------------------+\n",
      "|   p   |   q   |  p => q  |  q => p  |  (p => q) => (q => p)  |\n",
      "|-------+-------+----------+----------+------------------------|\n",
      "| True  | True  |   True   |   True   |          True          |\n",
      "| True  | False |  False   |   True   |          True          |\n",
      "| False | True  |   True   |  False   |         False          |\n",
      "| False | False |   True   |   True   |          True          |\n",
      "+-------+-------+----------+----------+------------------------+\n"
     ]
    },
    {
     "data": {
      "text/plain": [
       "'Contingency'"
      ]
     },
     "execution_count": 31,
     "metadata": {},
     "output_type": "execute_result"
    }
   ],
   "source": [
    "tbl = ttg.Truths(['p', 'q'], ['p => q', 'q => p', '(p => q) => (q => p)'], ints=False)\n",
    "print(tbl)\n",
    "tbl.valuation(-1)"
   ]
  },
  {
   "cell_type": "code",
   "execution_count": 24,
   "metadata": {},
   "outputs": [
    {
     "name": "stdout",
     "output_type": "stream",
     "text": [
      "+-------+-------+---------+\n",
      "|   p   |   q   |  p = q  |\n",
      "|-------+-------+---------|\n",
      "| True  | True  |  True   |\n",
      "| True  | False |  False  |\n",
      "| False | True  |  False  |\n",
      "| False | False |  True   |\n",
      "+-------+-------+---------+\n"
     ]
    },
    {
     "data": {
      "text/plain": [
       "'Contingency'"
      ]
     },
     "execution_count": 24,
     "metadata": {},
     "output_type": "execute_result"
    }
   ],
   "source": [
    "tbl = ttg.Truths(['p', 'q'], ['p = q'], ints=False)\n",
    "print(tbl)\n",
    "tbl.valuation(-1)"
   ]
  },
  {
   "cell_type": "markdown",
   "metadata": {},
   "source": [
    "================================================================================================================="
   ]
  },
  {
   "cell_type": "markdown",
   "metadata": {},
   "source": [
    "Questão 28"
   ]
  },
  {
   "cell_type": "markdown",
   "metadata": {},
   "source": [
    "a)"
   ]
  },
  {
   "cell_type": "code",
   "execution_count": null,
   "metadata": {},
   "outputs": [],
   "source": []
  }
 ],
 "metadata": {
  "kernelspec": {
   "display_name": "Python 3",
   "language": "python",
   "name": "python3"
  },
  "language_info": {
   "codemirror_mode": {
    "name": "ipython",
    "version": 3
   },
   "file_extension": ".py",
   "mimetype": "text/x-python",
   "name": "python",
   "nbconvert_exporter": "python",
   "pygments_lexer": "ipython3",
   "version": "3.7.5rc1"
  }
 },
 "nbformat": 4,
 "nbformat_minor": 4
}
